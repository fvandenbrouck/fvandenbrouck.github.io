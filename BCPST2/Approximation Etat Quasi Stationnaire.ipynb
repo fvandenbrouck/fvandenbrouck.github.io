{
 "cells": [
  {
   "cell_type": "markdown",
   "metadata": {
    "id": "SDKA023aLqQf"
   },
   "source": [
    "*Ressources numériques – Programme BCPST2 2022*\n",
    "---\n",
    "\n",
    "# **Transformation modélisée par deux actes élémentaires successifs**\n",
    "\n",
    "---\n",
    "\n",
    "**Capacité numérique disciplinaire :** à l’aide d’un langage de programmation, tracer, dans le cas de deux actes élémentaires successifs, l’évolution des concentrations par résolution numérique du système d’équations différentielles et mettre en évidence les conditions d’application de l’approximation de l’état quasi-stationnaire.\n",
    "\n",
    "\n",
    "---\n",
    "\n"
   ]
  },
  {
   "cell_type": "markdown",
   "metadata": {
    "id": "-f3p9oPEL42c"
   },
   "source": [
    "# 1 - Présentation\n",
    "---\n",
    "\n",
    "Ce document s'intéresse à une transformation modélisée, à l'échelle microscopique, par deux actes élémentaires successifs monomoléculaires :\n",
    "\n",
    "\\begin{align}   \n",
    "   \\mathsf{ \n",
    "    A \\xrightarrow{\\text{$k_{1}$}} B\\\\ \n",
    "    B \\xrightarrow{\\text{$k_{2}$}} C     }\n",
    "\\end{align}\n",
    "\n",
    "où $\\mathsf{k_1}$ et $\\mathsf{k_2}$ représentent les constantes de vitesse des deux actes élémentaires.\n",
    "\n",
    "L'évolution temporelle des concentrations des espèces $\\mathsf{A}$, $\\mathsf{B}$ et $\\mathsf{C}$ est régie par les équations différentielles suivantes :\n",
    "\\begin{equation}\n",
    "\\mathsf{\n",
    "    \\frac{d[A]}{dt} = -k_{1}[A] \\\\\n",
    "    \\frac{d[B]}{dt} = +k_{1}[A] - k_2 [B] \\\\\n",
    "    \\frac{d[C]}{dt} = + k_2 [B] \\\\\n",
    "}\n",
    "\\end{equation}\n",
    "\n",
    "### Notations\n",
    "A l'état initial, la concentration de l'espèce $\\mathsf{A}$ est notée $\\mathsf{a}$, celle de l'espèce $\\mathsf{B}$ est notée $\\mathsf{b}$ et celle de l'espèce $\\mathsf{C}$ est notée $\\mathsf{c}$.\n",
    "\n",
    "\n",
    "\n",
    "### Manipulation des scripts\n",
    "Les paramètres suivants peuvent être modifiés : \n",
    "* les concentrations initiales des espèces $\\mathsf{A}$, $\\mathsf{B}$ et $\\mathsf{C}$,\n",
    "* les valeurs des constantes de vitesse (en particulier, pour tester les situations $\\mathsf{k_2 << k_{1}}$ et $\\mathsf{k_2 >> k_{1}}$,\n",
    "* le pas de calcul et la durée d'intégration pour la méthode d'Euler.\n",
    "\n",
    "Ces scripts peuvent être modifiés pour prévoir l'évolution de concentrations dans le cas de réactions modélisées par des actes élémentaires de molécularités différentes de 1.\n",
    "\n",
    "\n",
    "\n",
    "---\n",
    "# 2 - Script utilisant la méthode d'Euler \n",
    "---\n",
    "\n",
    "La pméthode utilisée dans un premier temps pour intégrer l'équation différentielle est la méthode d'Euler. Celle-ci utilise la formule de Taylor qui permet d'écrire pour $\\mathsf{h\\to 0}$ :\n",
    "\\begin{equation}\n",
    "    \\mathsf{f(t_0+h)=f(t_0)+ \\left(\\frac{df}{dt}\\right)_{t_0}\\cdot h}\n",
    "\\end{equation}\n",
    "\n",
    "Cette relation permet de calculer la concentration d'une espèce à un instant $\\mathsf{t_0+h}$ connaissant sa valeur à l'instant $\\mathsf{t_0}$ et la valeur de la dérivée à l'instant $\\mathsf{t_0}$. Par exemple, pour la concentration de l'espèce $\\mathsf{A}$ :\n",
    "\\begin{equation}\n",
    "    \\mathsf{[A]_{t_0+h}=[A]_{t_0}+ \\left(\\frac{d[A]}{dt}\\right)_{t=t_0}  \\cdot h}\n",
    "\\end{equation}\n",
    "\n",
    "\\begin{equation}\n",
    "    \\mathsf{[A]_{t_0+h}=[A]_{t_0}-k_1[A]_{t_0}  \\cdot h}\n",
    "\\end{equation}\n",
    "\n",
    "La méthode d'Euler nécessite :\n",
    "* de connaître les valeurs initiales des grandeurs à intégrer (ici, $\\mathsf{[A]}$, $\\mathsf{[B]}$ et $\\mathsf{[C]}$)\n",
    "* d'utiliser un pas de calcul $\\mathsf{h}$ petit.\n",
    "\n",
    "En outre, sur le plan chimique, les concentrations des réactifs ne peuvent devenir négatives, ce qui impose une condition supplémentaire dans la boucle de calcul.\n",
    "\n",
    "---"
   ]
  },
  {
   "cell_type": "markdown",
   "metadata": {},
   "source": [
    "### Script Euler sans curseurs (version étudiants)\n"
   ]
  },
  {
   "cell_type": "code",
   "execution_count": 7,
   "metadata": {
    "colab": {
     "base_uri": "https://localhost:8080/"
    },
    "id": "2LpGFJPgWuvK",
    "outputId": "12a269ba-4cda-4a87-a0b3-f7203700afe1"
   },
   "outputs": [
    {
     "data": {
      "text/plain": [
       "<matplotlib.legend.Legend at 0x7fdae23b0c10>"
      ]
     },
     "execution_count": 7,
     "metadata": {},
     "output_type": "execute_result"
    },
    {
     "data": {
      "image/png": "[encoded data removed]",
      "text/plain": [
       "<Figure size 432x288 with 1 Axes>"
      ]
     },
     "metadata": {
      "needs_background": "light"
     },
     "output_type": "display_data"
    }
   ],
   "source": [
    "import matplotlib.pyplot as plt\n",
    "\n",
    "# Conditions initiales    # en mol/L\n",
    "a=1\n",
    "b=0\n",
    "c=0\n",
    "\n",
    "# Paramètres de la méthode d'intégration\n",
    "h=0.001      # pas temporel de calcul en s\n",
    "duree = .6   # durée simulée totale en s\n",
    "\n",
    "# Constantes de vitesse\n",
    "k1=10        # en s^(-1)\n",
    "k2=50        # en s^(-1)\n",
    "\n",
    "# Listes des valeurs des concentrations et des instants t\n",
    "LT=[0]\n",
    "LA=[a]\n",
    "LB=[b]\n",
    "LC=[c]\n",
    "\n",
    "# Boucle d'intégration\n",
    "\n",
    "nbpts=duree/h    # nombre de points maximal\n",
    "i=1\n",
    "while i<=nbpts and LA[-1] >= 0 and LB[-1] >= 0 :\n",
    "#la première condition évite que la boucle while n'ait pas de fin\n",
    "#la seconde condition est d'origine chimique et arrête le calcul \n",
    "#dès que la concentration d'une espèce chimique devient négative \n",
    "#pour garder une simulation ayant un sens physique.\n",
    "    A=LA[-1]         #utilise la dernière valeur de la liste LA\n",
    "    B=LB[-1]   \n",
    "    C=LC[-1]\n",
    "    LT.append(i*h)   #ajoute une valeur à la liste des instants\n",
    "    LA.append(A - k1*A*h)   #ajoute une valeur à la liste des concentrations \n",
    "                            #de l'espèce chimique A en tenant compte \n",
    "                            #de l'équation différentielle\n",
    "    LB.append(B + k1*A*h - k2*B*h)\n",
    "    LC.append(C+ k2*B*h)\n",
    "    i=i+1\n",
    "\n",
    "\n",
    "#Tracé des courbes des concentrations calculées en fonction du temps\n",
    "plt.figure(1)\n",
    "plt.title(f\"$k_1$ = {k1} $s^{-1}$ \\n $k_2$ = {k2} $s^{-1}$\")\n",
    "plt.plot(LT,LA,'b--', label='réactif A')\n",
    "plt.plot(LT,LB,'g--', label='intermédiaire B')\n",
    "plt.plot(LT,LC,'k--', label='produit C')\n",
    "plt.xlabel('t en s')\n",
    "plt.ylabel('Concentrations en $mol.L^{-1}$')\n",
    "plt.grid()\n",
    "plt.legend()"
   ]
  },
  {
   "cell_type": "markdown",
   "metadata": {},
   "source": [
    "## Script Euler avec curseurs (version professeur)\n",
    "\n",
    "Le script est le même que celui présenté à l'étape précédente. Les commandes sont désormais incluses au sein d'un programme qui génère des curseurs pouvant être manipulés pour illustrer diverses situations ayant trait aux importances relatives des constantes de vitesse des deux actes élémentaires.\n",
    "Ce code ne fonctionne que dans le cadre d'un notebook Jupyter."
   ]
  },
  {
   "cell_type": "code",
   "execution_count": 8,
   "metadata": {},
   "outputs": [
    {
     "data": {
      "application/vnd.jupyter.widget-view+json": {
       "model_id": "26ba2a5281bb4c2d9a529f13b6d17c3f",
       "version_major": 2,
       "version_minor": 0
      },
      "text/plain": [
       "interactive(children=(Dropdown(description='r', options=(0.1, 1, 2, 10, 50), value=0.1), Output()), _dom_class…"
      ]
     },
     "metadata": {},
     "output_type": "display_data"
    },
    {
     "data": {
      "text/plain": [
       "<function __main__.AEQS_Euler(r)>"
      ]
     },
     "execution_count": 8,
     "metadata": {},
     "output_type": "execute_result"
    }
   ],
   "source": [
    "import matplotlib.pyplot as plt\n",
    "from ipywidgets import interact\n",
    "\n",
    "\"\"\"Conditions initiales\"\"\"    # en mol/L\n",
    "a=1\n",
    "b=0\n",
    "c=0\n",
    "\n",
    "\"\"\"Paramètres de la méthode d'intégration\"\"\"\n",
    "h=0.001      # pas temporel de calcul en s\n",
    "duree = .6   # durée simulée totale en s\n",
    "\n",
    "\n",
    "def AEQS_Euler(r) :\n",
    "    # r représente le rapport des valeurs des constantes de vitesse r = k2/k1\n",
    " \n",
    "    \"\"\"Constantes de vitesse\"\"\"\n",
    "    k1=10        # en s^(-1)\n",
    "    k2 = r * k1\n",
    "\n",
    "    \"\"\"Listes des valeurs des concentrations et des instants t\"\"\"\n",
    "    LT=[0]\n",
    "    LA=[a]\n",
    "    LB=[b]\n",
    "    LC=[c]\n",
    "   \n",
    "    \"\"\" Boucle d'intégration\"\"\"\n",
    "    nbpts=duree/h    # nombre de points maximal\n",
    "    i=1\n",
    "    while i<=nbpts and LA[-1] >= 0 and LB[-1] >= 0 :\n",
    "        A=LA[-1]\n",
    "        B=LB[-1]   \n",
    "        C=LC[-1]\n",
    "        LT.append(i*h)\n",
    "        LA.append(A - k1*A*h)\n",
    "        LB.append(B + k1*A*h - k2*B*h)\n",
    "        LC.append(C+ k2*B*h)\n",
    "        i=i+1\n",
    "\n",
    "    \"\"\"Tracé des courbes des concentrations calculées en fonction du temps\"\"\"\n",
    "    plt.figure(1)\n",
    "    plt.plot(LT,LA,'b--', label='réactif A')\n",
    "    plt.plot(LT,LB,'g--', label='intermédiaire B')\n",
    "    plt.plot(LT,LC,'k--', label='produit C')\n",
    "    plt.xlabel('t en s')\n",
    "    plt.ylabel('Concentrations en $mol.L^{-1}$')\n",
    "    plt.title(f\"Cas où k2 = {r} k1\")\n",
    "    plt.grid()\n",
    "    plt.legend()\n",
    "\n",
    "interact (AEQS_Euler, r = [.1, 1, 2,10,50])"
   ]
  },
  {
   "cell_type": "markdown",
   "metadata": {},
   "source": [
    "---\n",
    "# 3 - Scripts utilisant `odeint`\n",
    "---\n",
    "\n",
    "\n",
    "### Script `odeint` sans curseur (version étudiant)"
   ]
  },
  {
   "cell_type": "code",
   "execution_count": 9,
   "metadata": {},
   "outputs": [
    {
     "data": {
      "text/plain": [
       "<matplotlib.legend.Legend at 0x7fdae2808fd0>"
      ]
     },
     "execution_count": 9,
     "metadata": {},
     "output_type": "execute_result"
    },
    {
     "data": {
      "image/png": "[encoded data removed]",
      "text/plain": [
       "<Figure size 432x288 with 1 Axes>"
      ]
     },
     "metadata": {
      "needs_background": "light"
     },
     "output_type": "display_data"
    }
   ],
   "source": [
    "## Importation des bibliothèques\n",
    "import matplotlib.pyplot as plt\n",
    "from numpy import linspace\n",
    "from scipy.integrate import odeint\n",
    "\n",
    "## Conditions initiales    # en mol/L\n",
    "a=1\n",
    "b=0\n",
    "c=0\n",
    "\n",
    "## Paramètres de la méthode d'intégration\n",
    "duree = .6   # durée simulée totale en s\n",
    "\n",
    "## Constantes de vitesse\n",
    "k1=10        # en s^(-1)\n",
    "k2=50        # en s^(-1)\n",
    "\n",
    "\n",
    "## Procédure d'intégration\n",
    "t = linspace(0,duree,2000)   #Création d'une liste de valeurs d'abscisses\n",
    "\n",
    "def f(Z,t) :\n",
    "  A,B,C = Z\n",
    "  return - k1*A , k1*A - k2*B , k2*B\n",
    "    \n",
    "resultat = odeint(f,[a,b,c],t)\n",
    "    \n",
    "A = resultat[:,0]\n",
    "B = resultat[:,1]\n",
    "C = resultat[:,2]\n",
    "\n",
    "\n",
    "## Tracé des courbes des concentrations calculées en fonction du temps\n",
    "plt.figure(1)\n",
    "plt.title(f\"$k_1$ = {k1} $s^{-1}$ \\n $k_2$ = {k2} $s^{-1}$\")\n",
    "plt.plot(t,A,'b--', label='réactif A')\n",
    "plt.plot(t,B,'g--', label='intermédiaire B')\n",
    "plt.plot(t,C,'k--', label='produit C')\n",
    "plt.xlabel('t en s')\n",
    "plt.ylabel('Concentrations en $mol.L^{-1}$')\n",
    "plt.grid()\n",
    "plt.legend()"
   ]
  },
  {
   "cell_type": "markdown",
   "metadata": {},
   "source": [
    "### Script `odeint` avec curseur (version professeur)\n",
    "\n",
    "Le script est le même que celui présenté à l'étape précédente. Les commandes sont désormais incluses au sein d'un programme qui génère des curseurs pouvant être manipulés pour illustrer diverses situations ayant trait aux importances relatives des constantes de vitesse des deux actes élémentaires.\n",
    "Ce code ne fonctionne que dans le cadre d'un notebook Jupyter."
   ]
  },
  {
   "cell_type": "code",
   "execution_count": 10,
   "metadata": {},
   "outputs": [
    {
     "data": {
      "application/vnd.jupyter.widget-view+json": {
       "model_id": "8e259b150ba54b35b5b8828b06f163d3",
       "version_major": 2,
       "version_minor": 0
      },
      "text/plain": [
       "interactive(children=(Dropdown(description='r', options=(0.1, 1, 2, 10, 50), value=0.1), Output()), _dom_class…"
      ]
     },
     "metadata": {},
     "output_type": "display_data"
    },
    {
     "data": {
      "text/plain": [
       "<function __main__.AEQS_Odeint(r)>"
      ]
     },
     "execution_count": 10,
     "metadata": {},
     "output_type": "execute_result"
    }
   ],
   "source": [
    "## Importation des bibliothèques\n",
    "import matplotlib.pyplot as plt\n",
    "from numpy import linspace\n",
    "from scipy.integrate import odeint\n",
    "from ipywidgets import interact\n",
    "\n",
    "# Conditions initiales\"\"\"    # en mol/L\n",
    "a=1\n",
    "b=0\n",
    "c=0\n",
    "\n",
    "\n",
    "def AEQS_Odeint(r) :\n",
    "    \n",
    "    ## Paramètres de la méthode d'intégration\n",
    "    duree = .6   # durée simulée totale en s\n",
    "\n",
    "    ## Constantes de vitesse\n",
    "    k1 = 10        # en s^(-1)\n",
    "    k2 = r * k1    # en s^(-1)\n",
    "\n",
    "\n",
    "    ## Procédure d'intégration\n",
    "    t = linspace(0,duree,2000)   #Création d'une liste de valeurs d'abscisses\n",
    "\n",
    "    def f(Z,t) :\n",
    "      A,B,C = Z\n",
    "      return - k1*A , k1*A - k2*B , k2*B\n",
    "\n",
    "    resultat = odeint(f,[a,b,c],t)\n",
    "\n",
    "    A = resultat[:,0]\n",
    "    B = resultat[:,1]\n",
    "    C = resultat[:,2]\n",
    "\n",
    "\n",
    "    ## Tracé des courbes des concentrations calculées en fonction du temps\n",
    "    plt.figure(1)\n",
    "    plt.title(f\"$k_1$ = {k1} $s^{-1}$ \\n $k_2$ = {k2} $s^{-1}$\")\n",
    "    plt.plot(t,A,'b--', label='réactif A')\n",
    "    plt.plot(t,B,'g--', label='intermédiaire B')\n",
    "    plt.plot(t,C,'k--', label='produit C')\n",
    "    plt.xlabel('t en s')\n",
    "    plt.ylabel('Concentrations en $mol.L^{-1}$')\n",
    "    plt.grid()\n",
    "    plt.legend()\n",
    "\n",
    "interact (AEQS_Odeint, r = [.1, 1, 2,10,50])"
   ]
  },
  {
   "cell_type": "markdown",
   "metadata": {
    "id": "ZZDdg2A2MX4o"
   },
   "source": [
    "---\n",
    "# 4 - Conclusion\n",
    "---\n",
    "\n",
    "Lorsque $\\mathsf{k_2 >> k_{1}}$, l'intermédiaire réactionnel ne s'accumule pas. \n",
    "Sa concentration varie beaucoup plus lentement que celles des autres espèces chimiques.\n",
    "\\begin{equation}\n",
    "\\mathsf{\n",
    "    \\frac{d[B]}{dt} << {\\left|\\frac{d[A]}{dt}\\right|,\\frac{d[C]}{dt}} \\\\ \\frac{d[B]}{dt} \\approx 0\n",
    "}\n",
    " \\end{equation}"
   ]
  }
 ],
 "metadata": {
  "colab": {
   "collapsed_sections": [],
   "name": "BCPST2 Actes élémentaires successifs.ipynb",
   "provenance": []
  },
  "kernelspec": {
   "display_name": "Python 3",
   "language": "python",
   "name": "python3"
  },
  "language_info": {
   "codemirror_mode": {
    "name": "ipython",
    "version": 3
   },
   "file_extension": ".py",
   "mimetype": "text/x-python",
   "name": "python",
   "nbconvert_exporter": "python",
   "pygments_lexer": "ipython3",
   "version": "3.7.4"
  }
 },
 "nbformat": 4,
 "nbformat_minor": 1
}
