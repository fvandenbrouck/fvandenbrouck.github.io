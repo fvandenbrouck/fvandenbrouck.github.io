{
 "cells": [
  {
   "cell_type": "markdown",
   "metadata": {
    "id": "SDKA023aLqQf"
   },
   "source": [
    "*Ressources numériques – Programme BCPST2 2022*\n",
    "---\n",
    "\n",
    "\n",
    "---\n",
    "# Domaine d'existence d'un solide ionique : application à la précipitation sélective\n",
    "---\n",
    "\n",
    "**Capacité numérique disciplinaire :**  à l’aide d’un langage de programmation, déterminer les conditions optimales pour séparer deux ions par précipitation sélective.\n",
    "\n",
    "\n",
    "---\n",
    "\n"
   ]
  },
  {
   "cell_type": "markdown",
   "metadata": {
    "id": "-f3p9oPEL42c"
   },
   "source": [
    "Ce document présente le tracé de deux diagrammes présentant le taux de précipitation de deux cations au sein d'un mélange en fonction de la concentration de l'anion :\n",
    "* **Cas 1 :** Précipitation des ions calcium $\\mathsf{Ca^{2+}}$ et magnésium $\\mathsf{Mg^{2+}}$ par introduction d'ions hydroxyde $HO^-$,\n",
    "* **Cas 2 :** Précipitation des ions fer(II) $\\mathsf{Fe^{2+}}$ et cuivre(II) $\\mathsf{Cu^{2+}}$ par introduction d'ions oxalate $\\mathsf{C_2O_4^{2-}}$.      \n",
    "\n",
    "L'objectif est d'analyser les courbes obtenues dans le but d'identifier des conditions expérimentales permettant une précipitation sélective de l'un des cations.\n",
    "\n",
    "Une dernière partie, à destination des professeurs, propose de déterminer la composition du système à l'état final, suite à l'introduction d'une quantité donnée d'ions oxalate dans un mélange d'ions fer(II) $\\mathsf{Fe^{2+}}$ et cuivre(II) $\\mathsf{Cu^{2+}}$. Ce calcul permet de préciser les conditions optimales permettant une élimination de l'un des cations.\n",
    "\n",
    "\n",
    "---\n",
    "# Précipitation des ions calcium et magnésium par les ions hydroxyde\n",
    "\n",
    "---\n",
    "\n",
    "\n",
    "### Principe de recherche de l'état final\n",
    "\n",
    "Lorsque la solution est saturée en un solide ionique, l'équilibre chimique mettant en jeu le solide ionique et ses ions constitutifs en solution est établi.\n",
    "\n",
    "Pour savoir si le solide existe, il faut d'abord vérifier que les concentrations du cation et de l'anion vérifient la **condition de précipitation**. Par exemple, le solide $\\mathsf{Ca(OH)_2}$ se forme si $\\mathsf{\\frac{[Ca^{2+}]\\cdot{[HO^-]}^2}{(C°)^3}>= K_s}$. \n",
    "\n",
    "Si le solide existe, alors la solution est saturée et la relation de Guldberg-Waage peut être écrite :\n",
    "\\begin{equation}\\mathsf{\n",
    "  Ca(OH)_2(s)=Ca^{2+}(aq)+2HO^{-}(aq) \\\\\n",
    "  K_s=Qr_{eq}=\\frac{[Ca^{2+}]_{eq} \\cdot {[HO^-]_{eq}}^2}{(C°)^3}}\n",
    "\\end{equation}\n",
    "\n",
    "En choisissant arbitrairement une valeur de $pH$, il est donc possible de :\n",
    "1. déterminer la concentration d'ions hydroxyde $\\mathsf{[HO^-]= (C°)^2 \\cdot \\frac{K_e}{[H_3O^+]}}$\n",
    "2. vérifier si le solide existe ou non,\n",
    "3. en déduire la concentration du cation en solution.\n",
    "\n",
    "\n",
    "### Bibliothèques utilisées\n",
    "\n",
    "La commande `linspace` de la bibliothèque `numpy` permet de générer une liste d'abscisses.\n",
    "\n",
    "La bibliothèque `matplolib` est utilisée pour tracer des graphiques. \n",
    "\n",
    "\n",
    "### Manipulation du script\n",
    "\n",
    "L'utilisateur peut modifier les valeurs des concentrations initiales des cations dans la solution traitée. \n",
    "Le script peut également être adapté pour traiter le cas d'autres hydroxydes métalliques à condition d'adapter les expressions des équations à résoudre en fonction de la stoechiométrie des sels ioniques et de modifier les valeurs des produits de solubilité.\n"
   ]
  },
  {
   "cell_type": "code",
   "execution_count": 2,
   "metadata": {
    "colab": {
     "base_uri": "https://localhost:8080/",
     "height": 295
    },
    "id": "2LpGFJPgWuvK",
    "outputId": "235b44b9-51fb-473c-e9ab-0f40df8ff300"
   },
   "outputs": [
    {
     "data": {
      "image/png": "[encoded data removed]",
      "text/plain": [
       "<Figure size 432x288 with 1 Axes>"
      ]
     },
     "metadata": {
      "needs_background": "light"
     },
     "output_type": "display_data"
    }
   ],
   "source": [
    "#IMPORTATION DES BIBLIOTHEQUES\n",
    "\n",
    "import numpy as np\n",
    "import matplotlib.pyplot as plt\n",
    "import scipy.optimize as op\n",
    "\n",
    "#SAISIE DES VALEURS DES PRODUITS DE SOLUBILITE\n",
    "pKs1=5.3    #hydroxyde de calcium\n",
    "pKs2=10.8   #hydroxyde de magnésium\n",
    "\n",
    "#SAISIE DES CONCENTRATIONS DES CATIONS DANS LE MELANGE INITIAL\n",
    "CCa=0.001   #ions calcium, en mol/L\n",
    "CMg=0.05    #ions magnésium, en mol/L\n",
    "\n",
    "#CREATION D'UNE LISTE DE VALEURS DE pH (abscisse du diagramme)\n",
    "pH=np.linspace(0,14,100)\n",
    "\n",
    "#BOUCLE DE CALCUL (calcul des concentrations des cations selon la valeur du pH)\n",
    "fCa=[]\n",
    "fMg=[]\n",
    "\n",
    "for x in pH :\n",
    "    if CCa*10**(2*(x-14))>10**(-pKs1) :\n",
    "        fCa.append(10**(-pKs1-2*x+28)/CCa)\n",
    "    else :\n",
    "        fCa.append(1)\n",
    "\n",
    "for x in pH :\n",
    "    if CMg*10**(2*(x-14))>10**(-pKs2) :\n",
    "        fMg.append(10**(-pKs2-2*x+28)/CMg)\n",
    "    else :\n",
    "        fMg.append(1)\n",
    "\n",
    "#TRACE DU DIAGRAMME\n",
    "plt.figure(1)\n",
    "plt.plot(pH,fCa,'b--', label='Proportion de calcium')\n",
    "plt.plot(pH,fMg,'g--', label='Proportion de magnésium')\n",
    "plt.xlabel('pH')\n",
    "plt.ylabel('Proportions')\n",
    "plt.title('Proportion des ions calcium et magnésium non précipités')\n",
    "plt.legend()\n",
    "plt.grid()\n",
    "plt.show()"
   ]
  },
  {
   "cell_type": "markdown",
   "metadata": {
    "id": "SugQrN7NVC6f"
   },
   "source": [
    "### Conclusion\n",
    "Le $\\mathsf{pH}$ nécessaire pour entraîner la formation de l'hydroxyde de magnésium est inférieur à celui nécessaire permettant de former l'hydroxyde de calcium.\n",
    "Ainsi, dans le cadre de la détermination de la dureté d'une eau par titrage complexométrique, il pourrait être envisagé, à condition de choisir convenablement la valeur du $\\mathsf{pH}$, de faire précipiter sélectivement les ions magnésium(II) sans faire précipiter les ions calcium(II). Le mélange, une fois filtré, serait épuré des ions magnésium, permettant d'envisager un titrage exclusif des ions calcium."
   ]
  },
  {
   "cell_type": "markdown",
   "metadata": {
    "id": "seFmkJ3LfxKw"
   },
   "source": [
    "---\n",
    "\n",
    "# 2 - Précipitation des ions cuivre(II) et fer(II) par les ions oxalate\n",
    "\n",
    "---\n",
    "\n",
    "\n",
    "### Principe de recherche de l'état final\n",
    "\n",
    "Le principe est identique à celui présenté précédemment à la différence que la stoechiométrie des sels est cette fois 1:1.\n",
    "\n",
    "Le script est écrit pour prévoir la proportion des ions cuivre(II) et fer(II) qui devraient précipiter dans le cas du traitement d'un mélange de ces ions ($\\mathsf{25 mL}$ d'une solution acidifiée à $\\mathsf{pH = 2,5}$ de sulfate de cuivre et de sel de Mohr à $\\mathsf{0,5 mol \\cdot L^{-1}}$) par $\\mathsf{30 mL}$ d'une solution d'oxalate d'ammonium à $\\mathsf{0,5 mol \\cdot L^{-1}}$).\n",
    "\n",
    "Les propriétés acides et basiques des différentes espèces ont été négligées pour simplifier l'étude.\n",
    "\n",
    "De telles précipitations sont mises en jeu dans les opérations de récupération de métaux lourds lors du traitement de batteries, notamment NiMH.\n",
    "\n",
    "\n",
    "### Manipulation du script\n",
    "\n",
    "L'utilisateur peut modifier les valeurs des concentrations initiales des cations dans la solution traitée. \n",
    "Le script peut également être adapté pour traiter le cas d'autres oxalates métalliques à condition d'adapter les expressions des équations à résoudre en fonction de la stoechiométrie des sels ioniques et de modifier les valeurs des produits de solubilité.\n"
   ]
  },
  {
   "cell_type": "code",
   "execution_count": 3,
   "metadata": {
    "colab": {
     "base_uri": "https://localhost:8080/",
     "height": 295
    },
    "id": "dHMwfCzVf9wf",
    "outputId": "983bb4e1-bceb-40a4-a010-847c47179cc2"
   },
   "outputs": [
    {
     "data": {
      "image/png": "[encoded data removed]",
      "text/plain": [
       "<Figure size 432x288 with 1 Axes>"
      ]
     },
     "metadata": {
      "needs_background": "light"
     },
     "output_type": "display_data"
    }
   ],
   "source": [
    "#IMPORTATION DES BIBLIOTHEQUES\n",
    "import numpy as np\n",
    "import matplotlib.pyplot as plt\n",
    "import scipy.optimize as op\n",
    "\n",
    "#SAISIE DES VALEURS DES PRODUITS DE SOLUBILITE\n",
    "pKs1=9.35    #oxalate de cuivre\n",
    "pKs2=4.73     #oxalate de fer\n",
    "\n",
    "\n",
    "#SAISIE DES CARACTERISTIQUES DU MELANGE A TRAITER\n",
    "\n",
    "# Caractéristiques de l'effluent à traiter\n",
    "CCu=0.5         #ions cuivre(II) en mol/L\n",
    "CFe=0.5         #ions fer(II) en mol/L\n",
    "Veff = 0.025    #volume de l'effluent en L\n",
    "\n",
    "# Caractéristiques de la solution traitante\n",
    "COx=0.5         #ions oxalate en mol/L\n",
    "VOx=0.030       #volume de la solution traitante en L\n",
    "\n",
    "\n",
    "#CALCUL DES QUANTITES DE MATIERE ET DU VOLUME TOTAL\n",
    "NCu = CCu * Veff\n",
    "NFe = CFe * Veff\n",
    "NOx = COx * VOx\n",
    "V = Veff + VOx\n",
    "\n",
    "\n",
    "#CALCUL DES PROPORTIONS DES CATIONS QUI N'ONT PAS PRECIPITE\n",
    "\n",
    "pOx=np.linspace(0,11,100)\n",
    "fCu=[]\n",
    "fFe=[]\n",
    "\n",
    "#Concentration en ions calcium libre selon la valeur du pOx\n",
    "for x in pOx :\n",
    "    if NCu/V*10**(-x)>10**(-pKs1) :\n",
    "        fCu.append(10**(-pKs1)*10**x/(NCu/V))\n",
    "    else :\n",
    "        fCu.append(1)\n",
    "\n",
    "#Concentration en ions magnésium libre selon la valeur du pOx\n",
    "for x in pOx :\n",
    "    if NFe/V*10**(-x)>10**(-pKs2) :\n",
    "        fFe.append(10**(-pKs2)*10**x/(NFe/V))\n",
    "    else :\n",
    "        fFe.append(1)\n",
    "\n",
    "\n",
    "#TRACE DES COURBES DE DISTRIBUTION\n",
    "plt.figure(2)\n",
    "plt.plot(pOx,fCu,'b--', label='Proportion de cuivre(II)')\n",
    "plt.plot(pOx,fFe,'g--', label='Proportion de fer(II)')\n",
    "plt.xlabel('pOx')\n",
    "plt.ylabel('Proportions')\n",
    "plt.title('Proportion des ions cuivre et fer non précipités')\n",
    "plt.legend()\n",
    "plt.grid()\n",
    "plt.show()"
   ]
  },
  {
   "cell_type": "markdown",
   "metadata": {
    "id": "t-5OeuoJIJGk"
   },
   "source": [
    "### Conclusion\n",
    "La quantité de matière d'ions oxalate permettant d'entraîner la formation de l'oxalate de cuivre est inférieure à celle nécessaire pour former l'oxalate de fer.\n",
    "En choisissant convenablement la valeur de $\\mathsf{pOx}$, il est possible de précipiter la quasi-totalité des ions cuivre(II) sans précipiter les ions fer(II). "
   ]
  },
  {
   "cell_type": "markdown",
   "metadata": {
    "id": "xb3B0ID5Ed2C"
   },
   "source": [
    "---\n",
    "# 3 - Pour aller plus loin : détermination de l'état final selon la quantité d'ions oxalate introduits\n",
    "\n",
    "---\n",
    "\n",
    "\n",
    "Le script précédent renseigne sur les proportions de cations en fonction de la valeur de $\\mathsf{pOx}$ à l'équilibre, mais il n'indique pas la quantité de matière d'ions oxalate qu'il faut introduire pour obtenir cet état d'équilibre.\n",
    "\n",
    "Le script proposé, à destination des professeurs, permet ainsi de déterminer la composition à l'état final en fonction de la quantité de matière d'ions oxalate introduite.\n",
    "\n",
    "Deux réactions sont susceptibles de modéliser le système :\n",
    "\\begin{equation}\\mathsf{\n",
    "  Fe^{2+}(aq)+Ox^{2-}(aq)=FeOx(s) \\\\\n",
    "  Cu^{2+}(aq)+Ox^{2-}(aq)=CuOx(s) }\n",
    "\\end{equation}\n",
    "\n",
    "Selon la quantité apportée des ions oxalate et celles des ions fer(II) et cuivre(II) dans l'effluent à traiter, plusieurs situations peuvent être rencontrées :\n",
    "* précipitation exclusive de l'un des sels,\n",
    "* précipitation des deux sels,\n",
    "* précipitation d'aucun des sels.\n",
    "\n",
    "La recherche de l'état final nécessite d'abord de déterminer quel(s) solides sont formés. \n",
    "\n",
    "Ensuite, selon le nombre de sels formés, la recherche de l'état final nécessite de rechercher un ou deux valeurs d'avancement :\n",
    "- le premier cas (une précipitation) nécessite de rechercher la racine d'un polynôme issu de l'écriture d'une relation de Guldberg-Waage,\n",
    "- le second cas (deux précipitations) nécessite d'écrire deux relations de Guldberg-Waage et une équation d'électroneutralité afin d'obtenir une équation à une seule inconnue.\n",
    "\n",
    "Le résultat de cette détermination peut être confronté aux courbes de pourcentage des cations pour valider ou invalider le résultat.\n",
    "\n"
   ]
  },
  {
   "cell_type": "code",
   "execution_count": 4,
   "metadata": {
    "colab": {
     "base_uri": "https://localhost:8080/"
    },
    "id": "NRdG8m4gEwxr",
    "outputId": "04ce0b8c-bfbf-4ed7-c61f-f52d55135fde"
   },
   "outputs": [
    {
     "name": "stdout",
     "output_type": "stream",
     "text": [
      "QUANTITES DE MATIERE À L'ÉTAT FINAL : \n",
      "Ions cuivre :  2.40e-07  mol\n",
      "Ions fer :  1.00e-02  mol\n",
      "Ions oxalate :  5.63e-06  mol\n",
      "\n",
      "VALEUR DE pOx À L'ÉTAT FINAL : \n",
      "pOx_final =  4.0\n",
      "\n",
      "EFFICACITE DE LA SEPARATION : \n",
      "( 100  % du cuivre a précipité)\n",
      "( 20  % du fer a précipité)\n"
     ]
    }
   ],
   "source": [
    "#IMPORTATION DES BIBLIOTHEQUES\n",
    "import numpy as np\n",
    "import matplotlib.pyplot as plt\n",
    "import scipy.optimize as op\n",
    "\n",
    "#SAISIE DES VALEURS DES PRODUITS DE SOLUBILITE\n",
    "pKs1=9.35    #oxalate de cuivre\n",
    "pKs2=4.73     #oxalate de fer\n",
    "\n",
    "\n",
    "#SAISIE DES CARACTERISTIQUES DU MELANGE A TRAITER\n",
    "\n",
    "# Caractéristiques de l'effluent à traiter\n",
    "CCu=0.5         #ions cuivre(II) en mol/L\n",
    "CFe=0.5         #ions fer(II) en mol/L\n",
    "Veff = 0.025    #volume de l'effluent en L\n",
    "\n",
    "# Caractéristiques de la solution traitante\n",
    "COx=0.5         #ions oxalate en mol/L\n",
    "VOx=0.030       #volume de la solution traitante en L\n",
    "\n",
    "\n",
    "#CALCUL DES QUANTITES DE MATIERE ET DU VOLUME TOTAL\n",
    "NCu = CCu * Veff\n",
    "NFe = CFe * Veff\n",
    "NOx = COx * VOx\n",
    "V = Veff + VOx\n",
    "\n",
    "\n",
    "#CONDITIONS DE PRECIPITATION\n",
    "NOxlim_Cu=10**(-pKs1)/NCu*V**2\n",
    "NOxlim_Fe=10**(-pKs2)/NFe*V**2\n",
    "\n",
    "\n",
    "#DETERMINATION DE LA COMPOSITION A L'ETAT FINAL\n",
    "\n",
    "# Cas 1 : il n'y a pas assez d'oxalate pour former un précipité\n",
    "if NOx < min(NOxlim_Cu,NOxlim_Fe) :\n",
    "    NCuf=NCu\n",
    "    NFef=NFe\n",
    "    NOxf=NOx\n",
    "\n",
    "# Cas 2 : un ou deux précipités se forme(nt). On envisage d'abord que les deux \n",
    "# solides coexistent à l'état final. \n",
    "\n",
    "if NOx >= min(NOxlim_Cu,NOxlim_Fe) :\n",
    "    def EF(x) :\n",
    "        return x**2 + (NCu+NFe-NOx)*x - (10**(-pKs1)+10**(-pKs2))*V**2\n",
    "    NOxhyp=op.bisect(EF,0,1)\n",
    "    # L'orientation de la parabole et la valeur en x= 0 de EF(x) est négative.\n",
    "    # On est assuré de l'existence d'un zéro positif unique puisque le\n",
    "    # discriminant est supérieur au coefficient de degré 1.\n",
    "    NCuhyp=10**(-pKs1)/NOxhyp*V**2\n",
    "    NFehyp=10**(-pKs2)/NOxhyp*V**2        \n",
    "    \n",
    "    if NOxhyp < NOx and NCuhyp < NCu and NFehyp < NFe :\n",
    "    #toutes les espèces sont présentes à l'état final\n",
    "        NOxf=NOxhyp\n",
    "        NCuf=NCuhyp\n",
    "        NFef=NFehyp\n",
    "    \n",
    "    else :\n",
    "    #l'une des espèces ne peut exister\n",
    "        \n",
    "        if NOxlim_Cu < NOxlim_Fe :\n",
    "        #L'oxalate de cuivre précipite mais pas l'oxalate de fer\n",
    "            def EFCu(x) :\n",
    "                return (NCu-x)*(NOx-x)-10**(-pKs1)*V**2\n",
    "            xf=op.bisect(EFCu,0,NCu)  \n",
    "            NFef=NFe\n",
    "            NCuf=NCu-xf\n",
    "            NOxf=NOx-xf\n",
    "        \n",
    "        if NOxlim_Cu > NOxlim_Fe :\n",
    "        #L'oxalate de fer précipite mais pas l'oxalate de cuivre\n",
    "            def EFFe(x) :\n",
    "                return (NFe-x)*(NOx-x)-10**(-pKs2)*V**2\n",
    "            xf=op.bisect(EFFe,0,NFe)  \n",
    "            NFef=NFe-xf\n",
    "            NCuf=NCu\n",
    "            NOxf=NOx-xf\n",
    "\n",
    "# Le script précédent peut être simplifié si l'on souhaite d'abord faire\n",
    "# réfléchir les étudiants sur le cas pertinent à envisager \n",
    "# après analyse des courbes de distribution.\n",
    "\n",
    "\n",
    "#AFFICHAGE DE LA COMPOSITION A L'ETAT FINAL\n",
    "\n",
    "print(\"QUANTITES DE MATIERE À L'ÉTAT FINAL : \")\n",
    "print('Ions cuivre : ',\"{:.2e}\".format(NCuf),' mol')\n",
    "print('Ions fer : ',\"{:.2e}\".format(NFef),' mol')\n",
    "print('Ions oxalate : ',\"{:.2e}\".format(NOxf),' mol')\n",
    "print('')\n",
    "print(\"VALEUR DE pOx À L'ÉTAT FINAL : \")\n",
    "print('pOx_final = ',round(-np.log10((NOxf)/V),1))\n",
    "print('')\n",
    "print(\"EFFICACITE DE LA SEPARATION : \")\n",
    "print('(',round(100*(1-NCuf/NCu)),' % du cuivre a précipité)')\n",
    "print('(',round(100*(1-NFef/NFe)),' % du fer a précipité)')"
   ]
  }
 ],
 "metadata": {
  "colab": {
   "collapsed_sections": [],
   "name": "Précipitation sélective.ipynb",
   "provenance": []
  },
  "kernelspec": {
   "display_name": "Python 3",
   "language": "python",
   "name": "python3"
  },
  "language_info": {
   "codemirror_mode": {
    "name": "ipython",
    "version": 3
   },
   "file_extension": ".py",
   "mimetype": "text/x-python",
   "name": "python",
   "nbconvert_exporter": "python",
   "pygments_lexer": "ipython3",
   "version": "3.7.4"
  }
 },
 "nbformat": 4,
 "nbformat_minor": 1
}
