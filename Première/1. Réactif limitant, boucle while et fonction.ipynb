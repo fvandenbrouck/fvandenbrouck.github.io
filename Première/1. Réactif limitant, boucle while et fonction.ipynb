{
 "cells": [
  {
   "cell_type": "markdown",
   "metadata": {
    "colab_type": "text",
    "id": "F6Gm2SkzF6_1"
   },
   "source": [
    "# Fiche n°1 : Réactif limitant, boucle while et fonction\n",
    "\n",
    "On utilise ici le langage Python pour déterminer l’avancement maximal et identifier le réactif limitant à partir de la donnée des quantités de matière initiales pour une équation de réaction donnée. D’un point de vue chimique, on illustre les notions d’équivalence et de réactif limitant. D’un point de vue algorithmique, c’est l’occasion d’utiliser une boucle **while** et ainsi d’appréhender la gestion d’une condition d’arrêt qui n’est pas connue a priori.\n",
    "\n",
    "**Capacité numérique mise en œuvre** : Déterminer la composition de l’état final d’un système siège d’une transformation chimique totale à l’aide d’un langage de programmation.\n",
    "\n",
    "## 1. Premier exemple, fonction input, première boucle \n",
    "\n",
    "La transformation est modélisée par la réaction d’équation :\n",
    "\n",
    "<center>$I_{2~(aq)} + 2S_{2}O_{3~(aq)}^{2-}  =  2 I^{-}_{(aq)} + S_4O_{6~(aq)}^{2-}$</center>\n",
    "\n",
    "* Le script débute par la saisie des quantités de matière apportées des deux réactifs (nI2_0 et nS2O3_0).  Pour obtenir une activité interactive et dynamique, on fait rentrer ces quantités dans le programme grâce à la fonction **input**. Ainsi, à chaque fois que l’utilisateur lancera le programme, il pourra entrer un nouveau jeu de concentrations initiales. L’instruction **float** convertit simplement les concentrations en flottants pour le traitement."
   ]
  },
  {
   "cell_type": "code",
   "execution_count": 0,
   "metadata": {
    "colab": {
     "base_uri": "https://localhost:8080/",
     "height": 51
    },
    "colab_type": "code",
    "executionInfo": {
     "elapsed": 5392,
     "status": "ok",
     "timestamp": 1556600690519,
     "user": {
      "displayName": "Laurent Abbal",
      "photoUrl": "https://lh6.googleusercontent.com/-p69Q6bgsEu8/AAAAAAAAAAI/AAAAAAAAB48/MjyqeBqYC-A/s64/photo.jpg",
      "userId": "10222764443389714306"
     },
     "user_tz": -540
    },
    "id": "YBcY0jzcHCt1",
    "outputId": "01f1e8a1-4050-4640-f051-1aad9ca9a9df"
   },
   "outputs": [
    {
     "name": "stdout",
     "output_type": "stream",
     "text": [
      "quantité initiale en diiode en mol :2\n",
      "quantité initiale en thiosulfate en mol :3\n"
     ]
    }
   ],
   "source": [
    "I2_0 = input('quantité initiale en diiode en mol :')        # on ouvre une fenêtre qui demande à l'utilisateur d'entrer\n",
    "                                                            # un nombre correspondant à la quantité initiale en I2\n",
    "nI2_0 = float(I2_0)                                         # on convertit cette entrée en flottant pour pouvoir la manipuler simplement. \n",
    "S2O3_0 = input('quantité initiale en thiosulfate en mol :') # idem pour le thiosulfate\n",
    "nS2O3_0 = float(S2O3_0)                                     # idem"
   ]
  },
  {
   "cell_type": "markdown",
   "metadata": {
    "colab_type": "text",
    "id": "ilXRe-UUHFRL"
   },
   "source": [
    "* L’avancement est ensuite initialisé à la valeur x = 0 mol, et un incrément est entré (a = 0,001 mol ici).\n",
    "* Une fonction, ‘limitant’, initialement vide, aura vocation à lister le nom du (ou des) réactifs limitants selon la composition du mélange initial. Les listes qI2 et qS2O3 à recueillir les quantités de matière successives de ces deux réactifs.\n"
   ]
  },
  {
   "cell_type": "code",
   "execution_count": 0,
   "metadata": {
    "colab": {},
    "colab_type": "code",
    "id": "RhHOaSj1HRCE"
   },
   "outputs": [],
   "source": [
    "limitant =''    # initiallisation de la chaine de caractère correspondant au réactif limitant\n",
    "x=0             # avancement initial\n",
    "a=0.001         # pas d'avancement\n",
    "qI2=[nI2_0]     # on crée une liste, contenant pour l'instant un seul élément qui correspond à la valeur initiale de I2\n",
    "qS2O3=[nS2O3_0] # idem pour le thiosulfate"
   ]
  },
  {
   "cell_type": "markdown",
   "metadata": {
    "colab_type": "text",
    "id": "e3AQJD-fHYCz"
   },
   "source": [
    "* Le script opère ensuite par augmentation progressive de l’avancement tant que les deux réactifs sont présents. La boucle conditionnelle **while** permet d’indiquer à Python qu’il doit poursuivre la réaction tant que les quantités de matière des deux réactifs sont positives. La fonction **append** sert à stocker chaque nouvelle valeur de quantité de matière dans les listes créées."
   ]
  },
  {
   "cell_type": "code",
   "execution_count": 0,
   "metadata": {
    "colab": {},
    "colab_type": "code",
    "id": "dUSGtb7IHhNc"
   },
   "outputs": [],
   "source": [
    "# écriture de la boucle while\n",
    "while qI2[-1] > 0 and qS2O3[-1] > 0: # tant que les deux concentrations sont non nulles\n",
    "    x=x+a                            # on remplace x par x+a : on affecte à x la valeur précédente de x+a\n",
    "    qI2.append(nI2_0-x)              # on complète la liste qI2 par la valeur calculée nI2_0-x\n",
    "    qS2O3.append(nS2O3_0-2*x)        # on complète la liste qS2O3 par la valeur calculée nS2O3-2*x"
   ]
  },
  {
   "cell_type": "markdown",
   "metadata": {
    "colab_type": "text",
    "id": "vuZxZ_LDHhV-"
   },
   "source": [
    "* Quand la transformation a été conduite à son terme, le(s) réactif(s) limitant(s) est identifié grâce à la commande liste[-1] qui permet d’appeler la dernière valeur dans une liste. L’avancement final est choisi comme la dernière valeur d’avancement calculée. Enfin, la commande **print** permet d’afficher l’état final. **round** permet d’afficher un arrondi à 2 chiffres significatifs."
   ]
  },
  {
   "cell_type": "code",
   "execution_count": 0,
   "metadata": {
    "colab": {
     "base_uri": "https://localhost:8080/",
     "height": 51
    },
    "colab_type": "code",
    "executionInfo": {
     "elapsed": 5338,
     "status": "ok",
     "timestamp": 1556600690532,
     "user": {
      "displayName": "Laurent Abbal",
      "photoUrl": "https://lh6.googleusercontent.com/-p69Q6bgsEu8/AAAAAAAAAAI/AAAAAAAAB48/MjyqeBqYC-A/s64/photo.jpg",
      "userId": "10222764443389714306"
     },
     "user_tz": -540
    },
    "id": "aBupaWeZF35K",
    "outputId": "a6626385-7159-4e0a-9cea-87f7c8f8ce94"
   },
   "outputs": [
    {
     "name": "stdout",
     "output_type": "stream",
     "text": [
      "Le réactif limitant est le  thiosulfate \n",
      " Avancement maximum :  1.5 mol\n"
     ]
    }
   ],
   "source": [
    "#résolution du problème et affichage du résultat\n",
    "if qI2[-1]<=0:                 # si la dernière valeur de la liste qI2 (le -1 permet de sélectionner la dernière valeur de la liste) est nulle\n",
    "    limitant = 'diiode'        # alors le réactif limitant est diiode\n",
    "if qS2O3[-1]<=0:               # idem dans l'autre cas. \n",
    "    limitant = 'thiosulfate'\n",
    "    \n",
    "#print(limitant) \n",
    "print('Le réactif limitant est le ',limitant,'\\n Avancement maximum : ',round(x,2),'mol' ) # on fait afficher le réactif limitant\n",
    "                                                                                           # round(x,2) sert à arrondir à deux\n",
    "                                                                                           # chiffres le résultat numérique précédent."
   ]
  },
  {
   "cell_type": "markdown",
   "metadata": {
    "colab_type": "text",
    "id": "SMMlBZDiHzeV"
   },
   "source": [
    "* Il est possible de tester différentes situations initiales avec les lèves pour mettre l’accent sur l’importance des nombres stœchiométriques dans l’identification du réactif limitant (le réactif limitant n’est pas nécessairement celui introduit en plus petite quantité).\n",
    "\n",
    "## 2. Généralisation, première définition, deuxième boucle\n",
    "\n",
    "On peut maintenant généraliser ce script pour pouvoir gérer tous les coefficients stœchiométriques et toutes les conditions initiales possibles, pour un système siège d’une réaction du type : aA A+ aB B =aC C + aD D\n",
    "\n",
    "La syntaxe débute par « **def nom_procedure(arguments) : **» et termine par **return**. On reprend les mêmes idées que précédemment.\n"
   ]
  },
  {
   "cell_type": "code",
   "execution_count": 0,
   "metadata": {
    "colab": {
     "base_uri": "https://localhost:8080/",
     "height": 102
    },
    "colab_type": "code",
    "executionInfo": {
     "elapsed": 19376,
     "status": "ok",
     "timestamp": 1556600704601,
     "user": {
      "displayName": "Laurent Abbal",
      "photoUrl": "https://lh6.googleusercontent.com/-p69Q6bgsEu8/AAAAAAAAAAI/AAAAAAAAB48/MjyqeBqYC-A/s64/photo.jpg",
      "userId": "10222764443389714306"
     },
     "user_tz": -540
    },
    "id": "HRtxjTOAF35R",
    "outputId": "759f3395-b057-41fb-d976-a849325f3a2f"
   },
   "outputs": [
    {
     "name": "stdout",
     "output_type": "stream",
     "text": [
      "quantité initiale de A en mol :2\n",
      "quantité initiale de B en mol :3\n",
      "a :5\n",
      "b :2\n"
     ]
    },
    {
     "data": {
      "text/plain": [
       "(['A'], 0.4)"
      ]
     },
     "execution_count": 16,
     "metadata": {
      "tags": []
     },
     "output_type": "execute_result"
    }
   ],
   "source": [
    "#### Définition de la procédure de recherche du réactif limitant ####\n",
    "#### pour l'équation de réaction : aA A + aB B = aC C + aD D\n",
    "\n",
    "A = input('quantité initiale de A en mol :') # on crée une entrée qui demande la quantité initiale de A\n",
    "nA = float(A)                                # on convertit l'entrée A en un flottant nA\n",
    "B = input('quantité initiale de B en mol :') # idem pour B\n",
    "nB = float(B)\n",
    "a = input('a :')                             # on fait entrer le coefficient stoechiométrique de A\n",
    "aA = float(a)                                # on le convertit en un flottant\n",
    "b = input('b :')                             # idem pour B\n",
    "aB = float(b) \n",
    "def react_lim(aA,aB,nA,nB) :      # on définit une fonction qui prend 4 arguments et qui va effectuer un certain nombre d'opérations\n",
    "    x=0                           # initialisation de l'avancement\n",
    "    dx=0.00001                    # on définit l'incrément d'avancement\n",
    "    qA=[nA]                       # on définit une liste stockant les quantités de matière successives de A : \n",
    "                                  # au début de la boucle, elle ne contient que la valeur initiale\n",
    "    qB=[nB]                       # idem pour B\n",
    "    RL=[]                         # on définit une liste qui stockera le nom du réactif limitant ; au début, elle est vide.\n",
    "    while qA[-1]>0 and qB[-1]>0 : # comme précédemment, tant que les deux concentrations sont non nulles\n",
    "        x=x+dx                    # on remplace x par x+dx\n",
    "        qA.append(nA-aA*x)        # on complète la liste qA par la valeur calculée nA-aA*x\n",
    "        qB.append(nB-aB*x)        # idem pour B\n",
    "    if qA[-1]<=0 :                # si la dernière valeur de qA est nulle\n",
    "        RL.append('A')            # compléter la liste du réactif limitant RL par A\n",
    "    if qB[-1]<=0 :                # idem pour B\n",
    "        RL.append('B')\n",
    "    return(RL,round(x,2))         # retourner RL et donner la valeur de l'avancement arrondie à 2 chiffres\n",
    "\n",
    "react_lim(aA,aB,nA,nB)            # effectuer la fonction reac_lim pour les grandeurs entrées par l'utilisateur "
   ]
  },
  {
   "cell_type": "markdown",
   "metadata": {
    "colab_type": "text",
    "id": "XIbn-72bITdt"
   },
   "source": [
    "Il suffit alors d’entrer les nombres stœchiométriques et les quantités initiales comme arguments de la procédure et le script renvoie directement le résultat. \n",
    "\n",
    "Là encore, il peut être formateur de faire constater aux élèves que le réactif limitant n’est pas forcément celui qui est introduit en plus petite quantité. "
   ]
  },
  {
   "cell_type": "code",
   "execution_count": 0,
   "metadata": {
    "colab": {
     "base_uri": "https://localhost:8080/",
     "height": 34
    },
    "colab_type": "code",
    "executionInfo": {
     "elapsed": 19363,
     "status": "ok",
     "timestamp": 1556600704603,
     "user": {
      "displayName": "Laurent Abbal",
      "photoUrl": "https://lh6.googleusercontent.com/-p69Q6bgsEu8/AAAAAAAAAAI/AAAAAAAAB48/MjyqeBqYC-A/s64/photo.jpg",
      "userId": "10222764443389714306"
     },
     "user_tz": -540
    },
    "id": "q1HaAbpDnN6A",
    "outputId": "e907cff7-27c8-4a68-f0e2-f9d842b30f07"
   },
   "outputs": [
    {
     "data": {
      "text/plain": [
       "(['B'], 1.67)"
      ]
     },
     "execution_count": 17,
     "metadata": {
      "tags": []
     },
     "output_type": "execute_result"
    }
   ],
   "source": [
    "react_lim(1,3,6,5) # test de la fonction définie précédemment pour un certain jeu de valeurs de paramètres"
   ]
  }
 ],
 "metadata": {
  "colab": {
   "collapsed_sections": [],
   "name": "1. Réactif limitant, boucle while et fonction.ipynb",
   "provenance": [],
   "version": "0.3.2"
  },
  "kernelspec": {
   "display_name": "Python 3 (ipykernel)",
   "language": "python",
   "name": "python3"
  },
  "language_info": {
   "codemirror_mode": {
    "name": "ipython",
    "version": 3
   },
   "file_extension": ".py",
   "mimetype": "text/x-python",
   "name": "python",
   "nbconvert_exporter": "python",
   "pygments_lexer": "ipython3",
   "version": "3.10.4"
  }
 },
 "nbformat": 4,
 "nbformat_minor": 1
}
