{
 "cells": [
  {
   "cell_type": "code",
   "execution_count": 1,
   "metadata": {},
   "outputs": [
    {
     "name": "stdout",
     "output_type": "stream",
     "text": [
      "Le réactif limitant est  à la fois le thiosulfate et le diiode : le mélange est stoechiometrique \n",
      " Avancement maximum :  1.0 mol\n"
     ]
    }
   ],
   "source": [
    "I2_0 = input('quantité initiale en diiode en mol :')\n",
    "nI2_0 = float(I2_0)\n",
    "S2O3_0 = input('quantité initiale en thiosulfate en mol :')\n",
    "nS2O3_0 = float(S2O3_0)\n",
    "\n",
    "limitant =''  # initiallisation de la chaine de caractère correspondant au réactif limitant\n",
    "x=0  # avancement initial\n",
    "a=0.001 #pas d'avancement\n",
    "qI2=[nI2_0]\n",
    "qS2O3=[nS2O3_0]\n",
    "# écriture de la boucle while\n",
    "while qI2[-1] > 0 and qS2O3[-1] > 0:\n",
    "    x=x+a\n",
    "    qI2.append(nI2_0-x)\n",
    "    qS2O3.append(nS2O3_0-2*x)\n",
    "#résolution du problème et affichage du résultat\n",
    "if qI2[-1]<=0:\n",
    "    limitant = 'le diiode'\n",
    "if qS2O3[-1]<=0:\n",
    "    limitant = 'le thiosulfate'\n",
    "if qI2[-1]<=0 and qS2O3[-1]<=0 : \n",
    "    limitant='à la fois le thiosulfate et le diiode : le mélange est stoechiometrique'\n",
    "#print(limitant)\n",
    "print('Le réactif limitant est ',limitant,'\\n Avancement maximum : ',round(x,2),'mol' )"
   ]
  },
  {
   "cell_type": "code",
   "execution_count": 2,
   "metadata": {},
   "outputs": [
    {
     "data": {
      "text/plain": [
       "(['A'], 0.5)"
      ]
     },
     "execution_count": 2,
     "metadata": {},
     "output_type": "execute_result"
    }
   ],
   "source": [
    "#### Définition de la procédure de recherche du réactif limitant ####\n",
    "#### pour l'équation de réaction : aA A + aB B = aC C + aD D\n",
    "A = input('quantité initiale de A en mol :')\n",
    "nA = float(A)\n",
    "B = input('quantité initiale de B en mol :')\n",
    "nB = float(B)\n",
    "a = input('a:')\n",
    "aA = float(a)\n",
    "b = input('b :')\n",
    "aB = float(b)\n",
    "def react_lim(aA,aB,nA,nB) :\n",
    "    x=0             # Initialisation de l'avancement\n",
    "    dx=0.00001      # Incrément d'avancement\n",
    "    qA=[nA]         # Liste stockant les quantités de matière successives de A\n",
    "    qB=[nB]         # Idem pour B\n",
    "    RL=[]           # Liste qui stockera le nom du réactif limitant\n",
    "    while qA[-1]>0 and qB[-1]>0 :\n",
    "        x=x+dx\n",
    "        qA.append(nA-aA*x)\n",
    "        qB.append(nB-aB*x)\n",
    "    if qA[-1]<=0 :\n",
    "        RL.append('A')\n",
    "    if qB[-1]<=0 :\n",
    "        RL.append('B')\n",
    "    return(RL,round(x,2))\n",
    "\n",
    "react_lim(aA,aB,nA,nB)\n"
   ]
  },
  {
   "cell_type": "code",
   "execution_count": null,
   "metadata": {},
   "outputs": [],
   "source": [
    "react_lim(1,3,6,5)"
   ]
  },
  {
   "cell_type": "code",
   "execution_count": null,
   "metadata": {},
   "outputs": [],
   "source": []
  },
  {
   "cell_type": "code",
   "execution_count": null,
   "metadata": {},
   "outputs": [],
   "source": []
  },
  {
   "cell_type": "code",
   "execution_count": null,
   "metadata": {},
   "outputs": [],
   "source": []
  }
 ],
 "metadata": {
  "kernelspec": {
   "display_name": "Python 3",
   "language": "python",
   "name": "python3"
  },
  "language_info": {
   "codemirror_mode": {
    "name": "ipython",
    "version": 3
   },
   "file_extension": ".py",
   "mimetype": "text/x-python",
   "name": "python",
   "nbconvert_exporter": "python",
   "pygments_lexer": "ipython3",
   "version": "3.6.4"
  }
 },
 "nbformat": 4,
 "nbformat_minor": 2
}
